{
 "cells": [
  {
   "cell_type": "markdown",
   "metadata": {},
   "source": [
    "C:\\Program Files (x86)\\Microsoft Visual Studio\\Shared\\Anaconda3_64>python -m pip install google-cloud-bigquery"
   ]
  },
  {
   "cell_type": "code",
   "execution_count": 1,
   "metadata": {},
   "outputs": [],
   "source": [
    "import pyodbc \n",
    "from datetime import datetime, date, timedelta\n",
    "from google.cloud import bigquery\n",
    "from google.oauth2 import service_account"
   ]
  },
  {
   "cell_type": "code",
   "execution_count": 2,
   "metadata": {},
   "outputs": [],
   "source": [
    "src_conn = pyodbc.connect('Driver={SQL Server};'\n",
    "                      'Server=Localhost;'\n",
    "                      'Database=CollectionStrategy;'\n",
    "                      'Trusted_Connection=yes;')\n",
    "\n",
    "dst_conn = pyodbc.connect('Driver={SQL Server};'\n",
    "                      'Server=Localhost;'\n",
    "                      'Database=DW;'\n",
    "                      'Trusted_Connection=yes;')"
   ]
  },
  {
   "cell_type": "code",
   "execution_count": 3,
   "metadata": {},
   "outputs": [
    {
     "name": "stdout",
     "output_type": "stream",
     "text": [
      "10000 rows inserted\n",
      "10000 rows inserted\n",
      "4990 rows inserted\n",
      "finished\n"
     ]
    }
   ],
   "source": [
    "rowlog = 0\n",
    "rowbatch = 10000\n",
    "src_qry = 'SELECT * FROM dbo.TREATMENT1 order by loan_id'\n",
    "dst_tbl = \"dbo.tm\"\n",
    "dst_ins = \"insert into {} values(%s); \".format(dst_tbl)\n",
    "\n",
    "type_str = type('str')\n",
    "type_datetime = type(datetime.now())\n",
    "type_int = type(1)\n",
    "type_float = type(1.0)\n",
    "type_None = type(None)\n",
    "\n",
    "#todo: handle blob data type\n",
    " \n",
    "def convert2str(record):\n",
    "    res = []\n",
    "    for item in record:\n",
    "        if type(item)==type_None:\n",
    "            res.append('NULL')\n",
    "        elif type(item)==type_str:\n",
    "            res.append(\"'\"+item+\"'\")\n",
    "        elif type(item)==type_datetime:\n",
    "            res.append(\"'\"+str(item)+\"'\")\n",
    "        else:  # for numeric values\n",
    "            res.append(str(item))\n",
    "    return ','.join(res)\n",
    "                                                     \n",
    "src_cur = src_conn.cursor()\n",
    "dst_cur = dst_conn.cursor()\n",
    "#enddate = date.today()\n",
    "\n",
    "src_cur.execute(src_qry)\n",
    "\n",
    "rowinsert = 0\n",
    "sql = \"\"\n",
    "for row in src_cur:\n",
    "    str_row = convert2str(row)        \n",
    "    #print(str_row)\n",
    "    sql += dst_ins%(str_row)\n",
    "    rowinsert += 1\n",
    "    \n",
    "    if rowinsert == rowbatch:\n",
    "        #print(sql)\n",
    "        dst_cur.execute(sql)\n",
    "        print(\"{} rows inserted\".format(rowinsert))\n",
    "        sql = \"\"\n",
    "        rowinsert = 0\n",
    "        \n",
    "if rowinsert != rowbatch:\n",
    "    dst_cur.execute(sql)\n",
    "    print(\"{} rows inserted\".format(rowinsert))\n",
    "    \n",
    "dst_cur.commit()\n",
    "print('finished')\n",
    "\n",
    "dst_cur.close()\n",
    "src_cur.close()\n"
   ]
  },
  {
   "cell_type": "code",
   "execution_count": null,
   "metadata": {},
   "outputs": [],
   "source": []
  }
 ],
 "metadata": {
  "kernelspec": {
   "display_name": "Python 3",
   "language": "python",
   "name": "python3"
  },
  "language_info": {
   "codemirror_mode": {
    "name": "ipython",
    "version": 3
   },
   "file_extension": ".py",
   "mimetype": "text/x-python",
   "name": "python",
   "nbconvert_exporter": "python",
   "pygments_lexer": "ipython3",
   "version": "3.6.5"
  }
 },
 "nbformat": 4,
 "nbformat_minor": 2
}
